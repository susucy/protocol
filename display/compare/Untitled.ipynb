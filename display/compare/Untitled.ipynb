{
 "cells": [
  {
   "cell_type": "code",
   "execution_count": 92,
   "metadata": {},
   "outputs": [],
   "source": [
    "suppressMessages({library(Seurat)\n",
    "library(tidyverse)\n",
    "library(ggrepel)\n",
    "library(ggalluvial)\n",
    "library(corrplot)})"
   ]
  },
  {
   "cell_type": "code",
   "execution_count": 72,
   "metadata": {},
   "outputs": [],
   "source": []
  },
  {
   "cell_type": "code",
   "execution_count": 106,
   "metadata": {},
   "outputs": [],
   "source": [
    "PRO <- readRDS(\"/SGRNJ02/RandD4/Integratedanalysis/RD20060301/20201126/dmulti/rename/BEGW.diff_PRO.rds\")"
   ]
  },
  {
   "cell_type": "code",
   "execution_count": 111,
   "metadata": {},
   "outputs": [
    {
     "name": "stderr",
     "output_type": "stream",
     "text": [
      "Warning message:\n",
      "“Removed 9 rows containing non-finite values (stat_ydensity).”\n",
      "Warning message:\n",
      "“Removed 9 rows containing non-finite values (stat_boxplot).”\n"
     ]
    },
    {
     "data": {
      "text/html": [
       "<strong>png:</strong> 2"
      ],
      "text/latex": [
       "\\textbf{png:} 2"
      ],
      "text/markdown": [
       "**png:** 2"
      ],
      "text/plain": [
       "png \n",
       "  2 "
      ]
     },
     "metadata": {},
     "output_type": "display_data"
    },
    {
     "data": {
      "text/html": [
       "<strong>png:</strong> 2"
      ],
      "text/latex": [
       "\\textbf{png:} 2"
      ],
      "text/markdown": [
       "**png:** 2"
      ],
      "text/plain": [
       "png \n",
       "  2 "
      ]
     },
     "metadata": {},
     "output_type": "display_data"
    }
   ],
   "source": [
    "##violint\n",
    "Idents(PRO)<-\"orig.ident\"\n",
    "P<-ggplot(PRO@meta.data,aes(x=orig.ident,y=nCount_RNA,fill=orig.ident)) + geom_violin(draw_quantiles = T) +geom_boxplot(width = 0.05)+labs(y=\"nUMI\")+ylim(0,60000)+theme_classic()\n",
    "pdf(file = \"nUMI_violint.pdf\",width =12,height = 9)\n",
    "print(P)\n",
    "dev.off()\n",
    "P<-ggplot(PRO@meta.data,aes(x=orig.ident,y=nFeature_RNA,fill=orig.ident)) + geom_violin(draw_quantiles = T) +geom_boxplot(width = 0.05)+labs(y=\"nGene\")+ylim(0,8000)+theme_classic()\n",
    "pdf(file = \"nGene_violint.pdf\",width =12,height = 9)\n",
    "print(P)\n",
    "dev.off()"
   ]
  },
  {
   "cell_type": "code",
   "execution_count": 107,
   "metadata": {},
   "outputs": [
    {
     "data": {
      "text/html": [
       "<strong>png:</strong> 2"
      ],
      "text/latex": [
       "\\textbf{png:} 2"
      ],
      "text/markdown": [
       "**png:** 2"
      ],
      "text/plain": [
       "png \n",
       "  2 "
      ]
     },
     "metadata": {},
     "output_type": "display_data"
    }
   ],
   "source": [
    "##corplot\n",
    "Idents(PRO)<-\"new_ident\"\n",
    "freq_table <- prop.table(x=table(PRO@active.ident ,PRO@meta.data[,\"sample\"]),margin=2)\n",
    "freM <- as.matrix(freq_table)\n",
    "celltype<-rownames(freM)\n",
    "freM<-apply(freM,2,as.numeric)\n",
    "freM<-data.frame(freM, celltype)\n",
    "R1 <- cor(freM$BE_Gaowan,freM$BEGW)\n",
    "P<-ggplot(data = freM,aes(x = BE_Gaowan,y = BEGW,color = celltype)) + geom_point()+geom_text_repel(aes(label=celltype),color = \"black\",size=4,vjust=3,hjust=-0.5) + geom_abline(color=\"black\") +geom_text(aes(x=0.25, y=0.25,label= paste(\"R\",\"=\",signif(R1,3),seq=\"\"),vjust=-30,hjust=2),color=\"black\")+theme_classic()+theme(legend.text=element_text(size=12))\n",
    "pdf(file = \"cor.pdf\",width =12,height = 9)\n",
    "print(P)\n",
    "dev.off()"
   ]
  },
  {
   "cell_type": "code",
   "execution_count": 108,
   "metadata": {},
   "outputs": [],
   "source": [
    "PRO@meta.data=unite(PRO@meta.data,'ident1',orig.ident,new_ident,sep='_',remove = F)"
   ]
  },
  {
   "cell_type": "code",
   "execution_count": 112,
   "metadata": {},
   "outputs": [
    {
     "data": {
      "text/html": [
       "<table>\n",
       "<caption>A data.frame: 6 × 9</caption>\n",
       "<thead>\n",
       "\t<tr><th></th><th scope=col>ident1</th><th scope=col>orig.ident</th><th scope=col>nCount_RNA</th><th scope=col>nFeature_RNA</th><th scope=col>sample</th><th scope=col>percent.mito</th><th scope=col>integrated_snn_res.0.3</th><th scope=col>seurat_clusters</th><th scope=col>new_ident</th></tr>\n",
       "\t<tr><th></th><th scope=col>&lt;chr&gt;</th><th scope=col>&lt;chr&gt;</th><th scope=col>&lt;dbl&gt;</th><th scope=col>&lt;int&gt;</th><th scope=col>&lt;chr&gt;</th><th scope=col>&lt;dbl&gt;</th><th scope=col>&lt;fct&gt;</th><th scope=col>&lt;fct&gt;</th><th scope=col>&lt;fct&gt;</th></tr>\n",
       "</thead>\n",
       "<tbody>\n",
       "\t<tr><th scope=row>BE_Gaowan_AAACATCGAAACATCGAAGACGGA</th><td>BE_Gaowan_Sertoli cells        </td><td>BE_Gaowan</td><td> 7554</td><td>1959</td><td>BE_Gaowan</td><td>0.007678051</td><td>8</td><td>8</td><td>Sertoli cells        </td></tr>\n",
       "\t<tr><th scope=row>BE_Gaowan_AAACATCGAACCGAGAAACCGAGA</th><td>BE_Gaowan_Round spermatids     </td><td>BE_Gaowan</td><td> 8941</td><td>3036</td><td>BE_Gaowan</td><td>0.007269880</td><td>3</td><td>3</td><td>Round spermatids     </td></tr>\n",
       "\t<tr><th scope=row>BE_Gaowan_AAACATCGAACGTGATACGCTCGA</th><td>BE_Gaowan_Elongating spermatids</td><td>BE_Gaowan</td><td> 8128</td><td>1434</td><td>BE_Gaowan</td><td>0.007750984</td><td>2</td><td>2</td><td>Elongating spermatids</td></tr>\n",
       "\t<tr><th scope=row>BE_Gaowan_AAACATCGACATTGGCATGCCTAA</th><td>BE_Gaowan_Elongating spermatids</td><td>BE_Gaowan</td><td> 4991</td><td> 823</td><td>BE_Gaowan</td><td>0.003606492</td><td>0</td><td>0</td><td>Elongating spermatids</td></tr>\n",
       "\t<tr><th scope=row>BE_Gaowan_AAACATCGACATTGGCCATCAAGT</th><td>BE_Gaowan_Elongating spermatids</td><td>BE_Gaowan</td><td>10594</td><td>2069</td><td>BE_Gaowan</td><td>0.001132717</td><td>1</td><td>1</td><td>Elongating spermatids</td></tr>\n",
       "\t<tr><th scope=row>BE_Gaowan_AAACATCGACGCTCGAACTATGCA</th><td>BE_Gaowan_Round spermatids     </td><td>BE_Gaowan</td><td> 5318</td><td>2272</td><td>BE_Gaowan</td><td>0.009402031</td><td>3</td><td>3</td><td>Round spermatids     </td></tr>\n",
       "</tbody>\n",
       "</table>\n"
      ],
      "text/latex": [
       "A data.frame: 6 × 9\n",
       "\\begin{tabular}{r|lllllllll}\n",
       "  & ident1 & orig.ident & nCount\\_RNA & nFeature\\_RNA & sample & percent.mito & integrated\\_snn\\_res.0.3 & seurat\\_clusters & new\\_ident\\\\\n",
       "  & <chr> & <chr> & <dbl> & <int> & <chr> & <dbl> & <fct> & <fct> & <fct>\\\\\n",
       "\\hline\n",
       "\tBE\\_Gaowan\\_AAACATCGAAACATCGAAGACGGA & BE\\_Gaowan\\_Sertoli cells         & BE\\_Gaowan &  7554 & 1959 & BE\\_Gaowan & 0.007678051 & 8 & 8 & Sertoli cells        \\\\\n",
       "\tBE\\_Gaowan\\_AAACATCGAACCGAGAAACCGAGA & BE\\_Gaowan\\_Round spermatids      & BE\\_Gaowan &  8941 & 3036 & BE\\_Gaowan & 0.007269880 & 3 & 3 & Round spermatids     \\\\\n",
       "\tBE\\_Gaowan\\_AAACATCGAACGTGATACGCTCGA & BE\\_Gaowan\\_Elongating spermatids & BE\\_Gaowan &  8128 & 1434 & BE\\_Gaowan & 0.007750984 & 2 & 2 & Elongating spermatids\\\\\n",
       "\tBE\\_Gaowan\\_AAACATCGACATTGGCATGCCTAA & BE\\_Gaowan\\_Elongating spermatids & BE\\_Gaowan &  4991 &  823 & BE\\_Gaowan & 0.003606492 & 0 & 0 & Elongating spermatids\\\\\n",
       "\tBE\\_Gaowan\\_AAACATCGACATTGGCCATCAAGT & BE\\_Gaowan\\_Elongating spermatids & BE\\_Gaowan & 10594 & 2069 & BE\\_Gaowan & 0.001132717 & 1 & 1 & Elongating spermatids\\\\\n",
       "\tBE\\_Gaowan\\_AAACATCGACGCTCGAACTATGCA & BE\\_Gaowan\\_Round spermatids      & BE\\_Gaowan &  5318 & 2272 & BE\\_Gaowan & 0.009402031 & 3 & 3 & Round spermatids     \\\\\n",
       "\\end{tabular}\n"
      ],
      "text/markdown": [
       "\n",
       "A data.frame: 6 × 9\n",
       "\n",
       "| <!--/--> | ident1 &lt;chr&gt; | orig.ident &lt;chr&gt; | nCount_RNA &lt;dbl&gt; | nFeature_RNA &lt;int&gt; | sample &lt;chr&gt; | percent.mito &lt;dbl&gt; | integrated_snn_res.0.3 &lt;fct&gt; | seurat_clusters &lt;fct&gt; | new_ident &lt;fct&gt; |\n",
       "|---|---|---|---|---|---|---|---|---|---|\n",
       "| BE_Gaowan_AAACATCGAAACATCGAAGACGGA | BE_Gaowan_Sertoli cells         | BE_Gaowan |  7554 | 1959 | BE_Gaowan | 0.007678051 | 8 | 8 | Sertoli cells         |\n",
       "| BE_Gaowan_AAACATCGAACCGAGAAACCGAGA | BE_Gaowan_Round spermatids      | BE_Gaowan |  8941 | 3036 | BE_Gaowan | 0.007269880 | 3 | 3 | Round spermatids      |\n",
       "| BE_Gaowan_AAACATCGAACGTGATACGCTCGA | BE_Gaowan_Elongating spermatids | BE_Gaowan |  8128 | 1434 | BE_Gaowan | 0.007750984 | 2 | 2 | Elongating spermatids |\n",
       "| BE_Gaowan_AAACATCGACATTGGCATGCCTAA | BE_Gaowan_Elongating spermatids | BE_Gaowan |  4991 |  823 | BE_Gaowan | 0.003606492 | 0 | 0 | Elongating spermatids |\n",
       "| BE_Gaowan_AAACATCGACATTGGCCATCAAGT | BE_Gaowan_Elongating spermatids | BE_Gaowan | 10594 | 2069 | BE_Gaowan | 0.001132717 | 1 | 1 | Elongating spermatids |\n",
       "| BE_Gaowan_AAACATCGACGCTCGAACTATGCA | BE_Gaowan_Round spermatids      | BE_Gaowan |  5318 | 2272 | BE_Gaowan | 0.009402031 | 3 | 3 | Round spermatids      |\n",
       "\n"
      ],
      "text/plain": [
       "                                   ident1                          orig.ident\n",
       "BE_Gaowan_AAACATCGAAACATCGAAGACGGA BE_Gaowan_Sertoli cells         BE_Gaowan \n",
       "BE_Gaowan_AAACATCGAACCGAGAAACCGAGA BE_Gaowan_Round spermatids      BE_Gaowan \n",
       "BE_Gaowan_AAACATCGAACGTGATACGCTCGA BE_Gaowan_Elongating spermatids BE_Gaowan \n",
       "BE_Gaowan_AAACATCGACATTGGCATGCCTAA BE_Gaowan_Elongating spermatids BE_Gaowan \n",
       "BE_Gaowan_AAACATCGACATTGGCCATCAAGT BE_Gaowan_Elongating spermatids BE_Gaowan \n",
       "BE_Gaowan_AAACATCGACGCTCGAACTATGCA BE_Gaowan_Round spermatids      BE_Gaowan \n",
       "                                   nCount_RNA nFeature_RNA sample   \n",
       "BE_Gaowan_AAACATCGAAACATCGAAGACGGA  7554      1959         BE_Gaowan\n",
       "BE_Gaowan_AAACATCGAACCGAGAAACCGAGA  8941      3036         BE_Gaowan\n",
       "BE_Gaowan_AAACATCGAACGTGATACGCTCGA  8128      1434         BE_Gaowan\n",
       "BE_Gaowan_AAACATCGACATTGGCATGCCTAA  4991       823         BE_Gaowan\n",
       "BE_Gaowan_AAACATCGACATTGGCCATCAAGT 10594      2069         BE_Gaowan\n",
       "BE_Gaowan_AAACATCGACGCTCGAACTATGCA  5318      2272         BE_Gaowan\n",
       "                                   percent.mito integrated_snn_res.0.3\n",
       "BE_Gaowan_AAACATCGAAACATCGAAGACGGA 0.007678051  8                     \n",
       "BE_Gaowan_AAACATCGAACCGAGAAACCGAGA 0.007269880  3                     \n",
       "BE_Gaowan_AAACATCGAACGTGATACGCTCGA 0.007750984  2                     \n",
       "BE_Gaowan_AAACATCGACATTGGCATGCCTAA 0.003606492  0                     \n",
       "BE_Gaowan_AAACATCGACATTGGCCATCAAGT 0.001132717  1                     \n",
       "BE_Gaowan_AAACATCGACGCTCGAACTATGCA 0.009402031  3                     \n",
       "                                   seurat_clusters new_ident            \n",
       "BE_Gaowan_AAACATCGAAACATCGAAGACGGA 8               Sertoli cells        \n",
       "BE_Gaowan_AAACATCGAACCGAGAAACCGAGA 3               Round spermatids     \n",
       "BE_Gaowan_AAACATCGAACGTGATACGCTCGA 2               Elongating spermatids\n",
       "BE_Gaowan_AAACATCGACATTGGCATGCCTAA 0               Elongating spermatids\n",
       "BE_Gaowan_AAACATCGACATTGGCCATCAAGT 1               Elongating spermatids\n",
       "BE_Gaowan_AAACATCGACGCTCGAACTATGCA 3               Round spermatids     "
      ]
     },
     "metadata": {},
     "output_type": "display_data"
    }
   ],
   "source": [
    "head(PRO@meta.data)"
   ]
  },
  {
   "cell_type": "code",
   "execution_count": 104,
   "metadata": {},
   "outputs": [
    {
     "data": {
      "text/html": [
       "<strong>png:</strong> 2"
      ],
      "text/latex": [
       "\\textbf{png:} 2"
      ],
      "text/markdown": [
       "**png:** 2"
      ],
      "text/plain": [
       "png \n",
       "  2 "
      ]
     },
     "metadata": {},
     "output_type": "display_data"
    },
    {
     "data": {
      "text/html": [
       "<strong>png:</strong> 2"
      ],
      "text/latex": [
       "\\textbf{png:} 2"
      ],
      "text/markdown": [
       "**png:** 2"
      ],
      "text/plain": [
       "png \n",
       "  2 "
      ]
     },
     "metadata": {},
     "output_type": "display_data"
    },
    {
     "data": {
      "text/html": [
       "<strong>png:</strong> 2"
      ],
      "text/latex": [
       "\\textbf{png:} 2"
      ],
      "text/markdown": [
       "**png:** 2"
      ],
      "text/plain": [
       "png \n",
       "  2 "
      ]
     },
     "metadata": {},
     "output_type": "display_data"
    },
    {
     "data": {
      "text/html": [
       "<strong>png:</strong> 2"
      ],
      "text/latex": [
       "\\textbf{png:} 2"
      ],
      "text/markdown": [
       "**png:** 2"
      ],
      "text/plain": [
       "png \n",
       "  2 "
      ]
     },
     "metadata": {},
     "output_type": "display_data"
    },
    {
     "data": {
      "text/html": [
       "<strong>png:</strong> 2"
      ],
      "text/latex": [
       "\\textbf{png:} 2"
      ],
      "text/markdown": [
       "**png:** 2"
      ],
      "text/plain": [
       "png \n",
       "  2 "
      ]
     },
     "metadata": {},
     "output_type": "display_data"
    },
    {
     "data": {
      "text/html": [
       "<strong>png:</strong> 2"
      ],
      "text/latex": [
       "\\textbf{png:} 2"
      ],
      "text/markdown": [
       "**png:** 2"
      ],
      "text/plain": [
       "png \n",
       "  2 "
      ]
     },
     "metadata": {},
     "output_type": "display_data"
    }
   ],
   "source": [
    "##dotplot&heatmap\n",
    "Idents(PRO)<-\"sample\"\n",
    "PROBE_G<-subset(PRO,idents = 'BE_Gaowan')\n",
    "PROBEG<-subset(PRO,idents = 'BEGW')\n",
    "Idents(PRO)<-\"ident1\"\n",
    "Idents(PROBE_G)<-\"ident1\"\n",
    "Idents(PROBEG)<-\"ident1\"\n",
    "cd_genes <- c('Tnp1','Prm1','Acrv1','Sun5','Psma8','Piwil1','Sox9','Cldn11','Dmrt1','Stra8','Fabp3','Hsd3b1')\n",
    "P<-DotPlot(object = PRO, features = cd_genes)\n",
    "pdf(file = \"BE_dotplot.pdf\",width =15,height = 12)\n",
    "print(P)\n",
    "dev.off()\n",
    "P<-DotPlot(object = PROBE_G, features = cd_genes)\n",
    "pdf(file = \"BE_Gaowan_dotplot.pdf\",width =15,height = 12)\n",
    "print(P)\n",
    "dev.off()\n",
    "P<-DotPlot(object = PROBEG, features = cd_genes)\n",
    "pdf(file = \"BEGW_dotplot.pdf\",width =15,height = 12)\n",
    "print(P)\n",
    "dev.off()\n",
    "P<-DoHeatmap(object = PRO, features = cd_genes)\n",
    "pdf(file = \"BE_heatmap.pdf\",width =15,height = 12)\n",
    "print(P)\n",
    "dev.off()\n",
    "P<-DoHeatmap(object = PROBE_G, features = cd_genes)\n",
    "pdf(file = \"BE_Gaowan_heatmap.pdf\",width =15,height = 12)\n",
    "print(P)\n",
    "dev.off()\n",
    "P<-DoHeatmap(object = PROBEG, features = cd_genes)\n",
    "pdf(file = \"BEGW_heatmap.pdf\",width =15,height = 12)\n",
    "print(P)\n",
    "dev.off()"
   ]
  },
  {
   "cell_type": "code",
   "execution_count": 114,
   "metadata": {},
   "outputs": [
    {
     "name": "stderr",
     "output_type": "stream",
     "text": [
      "Warning message in plot.window(xlim, ylim, log = log, ...):\n",
      "“\"palette\" is not a graphical parameter”\n",
      "Warning message in axis(if (horiz) 2 else 1, at = at.l, labels = names.arg, lty = axis.lty, :\n",
      "“\"palette\" is not a graphical parameter”\n",
      "Warning message in title(main = main, sub = sub, xlab = xlab, ylab = ylab, ...):\n",
      "“\"palette\" is not a graphical parameter”\n",
      "Warning message in axis(if (horiz) 1 else 2, cex.axis = cex.axis, ...):\n",
      "“\"palette\" is not a graphical parameter”\n"
     ]
    },
    {
     "data": {
      "image/png": "[encoded data removed]",
      "text/plain": [
       "plot without title"
      ]
     },
     "metadata": {
      "image/png": {
       "height": 420,
       "width": 420
      }
     },
     "output_type": "display_data"
    }
   ],
   "source": [
    "##matchpercent\n",
    "Idents(PRO)<-\"orig.ident\"\n",
    "PRO1<-subset(PRO,idents='BE_Gaowan')\n",
    "PRO2<-subset(PRO,idents='BEGW')\n",
    "barcodes <- sapply(rownames(PRO1@meta.data), function(x) unlist(strsplit(x, \"_\"))[3])\n",
    "PRO1 <- AddMetaData(object = PRO1, metadata = barcodes, col.name = 'barcodes')\n",
    "barcodes <- sapply(rownames(PRO2@meta.data), function(x) unlist(strsplit(x, \"_\"))[2])\n",
    "PRO2 <- AddMetaData(object = PRO2, metadata = barcodes, col.name = 'barcodes')\n",
    "barcode1<-PRO1@meta.data$barcodes\n",
    "barcode2<-PRO2@meta.data$barcodes\n",
    "barcode=intersect(barcode1, barcode2)\n",
    "PRO1@meta.data$rowname=rownames(PRO1@meta.data)\n",
    "rownames(PRO1@meta.data)=PRO1@meta.data$barcodes\n",
    "PRO1@meta.data$match = 'unmatch'\n",
    "PRO1@meta.data[barcode,'match'] = 'match'\n",
    "rownames(PRO1@meta.data)=PRO1@meta.data$rowname\n",
    "PRO2@meta.data$rowname=rownames(PRO2@meta.data)\n",
    "rownames(PRO2@meta.data)=PRO2@meta.data$barcodes\n",
    "PRO2@meta.data$match = 'unmatch'\n",
    "PRO2@meta.data[barcode,'match'] = 'match'\n",
    "rownames(PRO2@meta.data)=PRO2@meta.data$rowname\n",
    "PRO3<-merge(x=PRO1,y=PRO2)\n",
    "Idents(PRO3)<-\"match\"\n",
    "freq_table <- prop.table(x=table(PRO3@active.ident,PRO3@meta.data[,\"new_ident\"]),margin=2)\n",
    "clustcol<-c(\"OrangeRed\",\"SlateBlue3\",\"DarkOrange\",\"GreenYellow\",\"Purple\",\"DarkSlateGray\",\"Gold\",\"DeepPink2\",\"Red4\",\"#4682B4\",\"#FFDAB9\",\"#708090\",\"#836FFF\",\"#CDC673\",\"#CD9B1D\",\"#FF6EB4\",\"#CDB5CD\",\"DarkGreen\",\"#008B8B\",\"#43CD80\",\"#483D8B\",\"#66CD00\",\"#CDC673\",\"#CDAD00\",\"#CD9B9B\",\"#FF8247\",\"#8B7355\",\"#8B3A62\",\"#68228B\",\"#CDB7B5\",\"#CD853F\",\"#6B8E23\",\"#696969\",\"#7B68EE\",\"#9F79EE\",\"#B0C4DE\",\"#7A378B\",\"#66CDAA\",\"#EEE8AA\",\"#00FF00\",\"#EEA2AD\",\"#A0522D\",\"#000080\",\"#E9967A\",\"#00CDCD\",\"#8B4500\",\"#DDA0DD\",\"#EE9572\",\"#EEE9E9\",\"#8B1A1A\",\"#8B8378\",\"#EE9A49\",\"#EECFA1\",\"#8B4726\",\"#8B8878\",\"#EEB4B4\",\"#C1CDCD\",\"#8B7500\",\"#0000FF\",\"#EEEED1\",\"#4F94CD\",\"#6E8B3D\",\"#B0E2FF\",\"#76EE00\",\"#A2B5CD\",\"#548B54\",\"#BBFFFF\",\"#B4EEB4\",\"#00C5CD\",\"#008B8B\",\"#7FFFD4\",\"#8EE5EE\",\"#43CD80\",\"#68838B\",\"#00FF00\",\"#B9D3EE\",\"#9ACD32\",\"#00688B\",\"#FFEC8B\",\"#1C86EE\",\"#CDCD00\",\"#473C8B\",\"#FFB90F\",\"#EED5D2\",\"#CD5555\",\"#CDC9A5\",\"#FFE7BA\",\"#FFDAB9\",\"#CD661D\",\"#CDC5BF\",\"#FF8C69\",\"#8A2BE2\",\"#CD8500\",\"#B03060\",\"#FF6347\",\"#FF7F50\",\"#CD0000\",\"#F4A460\",\"#FFB5C5\",\"#DAA520\",\"#CD6889\",\"#32CD32\",\"#FF00FF\",\"#2E8B57\",\"#CD96CD\",\"#48D1CC\",\"#9B30FF\",\"#1E90FF\",\"#CDB5CD\",\"#191970\",\"#E8E8E8\",\"#FFDAB9\")\n",
    "col2<-colorRampPalette(c(\"OrangeRed\",\"SlateBlue3\",\"DarkOrange\",\"GreenYellow\",\"Purple\",\"DarkSlateGray\",\"Gold\",\"DarkGreen\",\"DeepPink2\",\"Red4\",\"#4682B4\",\"#FFDAB9\",\"#708090\",\"#836FFF\",\"#CDC673\",\"#CD9B1D\",\"#FF6EB4\",\"#CDB5CD\",\"#008B8B\",\"#43CD80\",\"#483D8B\",\"#66CD00\",\"#CDC673\",\"#CDAD00\",\"#CD9B9B\",\"#FF8247\",\"#8B7355\",\"#8B3A62\",\"#68228B\",\"#CDB7B5\",\"#CD853F\",\"#6B8E23\",\"#E6E6FA\",\"#FFDAB9\"))   \n",
    "pdf(file = 'matchPercentPerCell.pdf')\n",
    "barplot(height=freq_table,width = 6,xlim=c(1,60),legend = rownames(freq_table),args.legend = list(x = \"right\"),las=2,xlab=\"\",palette='Spectral_r',col=c(\"#6495ED\",\"#87CEFA\"))\n",
    "dev.off()"
   ]
  },
  {
   "cell_type": "code",
   "execution_count": 124,
   "metadata": {},
   "outputs": [
    {
     "data": {
      "text/html": [
       "<table>\n",
       "<caption>A data.frame: 6 × 12</caption>\n",
       "<thead>\n",
       "\t<tr><th></th><th scope=col>ident1</th><th scope=col>orig.ident</th><th scope=col>nCount_RNA</th><th scope=col>nFeature_RNA</th><th scope=col>sample</th><th scope=col>percent.mito</th><th scope=col>integrated_snn_res.0.3</th><th scope=col>seurat_clusters</th><th scope=col>new_ident</th><th scope=col>barcodes</th><th scope=col>rowname</th><th scope=col>match</th></tr>\n",
       "\t<tr><th></th><th scope=col>&lt;chr&gt;</th><th scope=col>&lt;chr&gt;</th><th scope=col>&lt;dbl&gt;</th><th scope=col>&lt;int&gt;</th><th scope=col>&lt;chr&gt;</th><th scope=col>&lt;dbl&gt;</th><th scope=col>&lt;fct&gt;</th><th scope=col>&lt;fct&gt;</th><th scope=col>&lt;fct&gt;</th><th scope=col>&lt;chr&gt;</th><th scope=col>&lt;chr&gt;</th><th scope=col>&lt;chr&gt;</th></tr>\n",
       "</thead>\n",
       "<tbody>\n",
       "\t<tr><th scope=row>BE_Gaowan_AAACATCGAAACATCGAAGACGGA</th><td>BE_Gaowan_Sertoli cells        </td><td>BE_Gaowan</td><td> 7554</td><td>1959</td><td>BE_Gaowan</td><td>0.007678051</td><td>8</td><td>8</td><td>Sertoli cells        </td><td>AAACATCGAAACATCGAAGACGGA</td><td>BE_Gaowan_AAACATCGAAACATCGAAGACGGA</td><td>match</td></tr>\n",
       "\t<tr><th scope=row>BE_Gaowan_AAACATCGAACCGAGAAACCGAGA</th><td>BE_Gaowan_Round spermatids     </td><td>BE_Gaowan</td><td> 8941</td><td>3036</td><td>BE_Gaowan</td><td>0.007269880</td><td>3</td><td>3</td><td>Round spermatids     </td><td>AAACATCGAACCGAGAAACCGAGA</td><td>BE_Gaowan_AAACATCGAACCGAGAAACCGAGA</td><td>match</td></tr>\n",
       "\t<tr><th scope=row>BE_Gaowan_AAACATCGAACGTGATACGCTCGA</th><td>BE_Gaowan_Elongating spermatids</td><td>BE_Gaowan</td><td> 8128</td><td>1434</td><td>BE_Gaowan</td><td>0.007750984</td><td>2</td><td>2</td><td>Elongating spermatids</td><td>AAACATCGAACGTGATACGCTCGA</td><td>BE_Gaowan_AAACATCGAACGTGATACGCTCGA</td><td>match</td></tr>\n",
       "\t<tr><th scope=row>BE_Gaowan_AAACATCGACATTGGCATGCCTAA</th><td>BE_Gaowan_Elongating spermatids</td><td>BE_Gaowan</td><td> 4991</td><td> 823</td><td>BE_Gaowan</td><td>0.003606492</td><td>0</td><td>0</td><td>Elongating spermatids</td><td>AAACATCGACATTGGCATGCCTAA</td><td>BE_Gaowan_AAACATCGACATTGGCATGCCTAA</td><td>match</td></tr>\n",
       "\t<tr><th scope=row>BE_Gaowan_AAACATCGACATTGGCCATCAAGT</th><td>BE_Gaowan_Elongating spermatids</td><td>BE_Gaowan</td><td>10594</td><td>2069</td><td>BE_Gaowan</td><td>0.001132717</td><td>1</td><td>1</td><td>Elongating spermatids</td><td>AAACATCGACATTGGCCATCAAGT</td><td>BE_Gaowan_AAACATCGACATTGGCCATCAAGT</td><td>match</td></tr>\n",
       "\t<tr><th scope=row>BE_Gaowan_AAACATCGACGCTCGAACTATGCA</th><td>BE_Gaowan_Round spermatids     </td><td>BE_Gaowan</td><td> 5318</td><td>2272</td><td>BE_Gaowan</td><td>0.009402031</td><td>3</td><td>3</td><td>Round spermatids     </td><td>AAACATCGACGCTCGAACTATGCA</td><td>BE_Gaowan_AAACATCGACGCTCGAACTATGCA</td><td>match</td></tr>\n",
       "</tbody>\n",
       "</table>\n"
      ],
      "text/latex": [
       "A data.frame: 6 × 12\n",
       "\\begin{tabular}{r|llllllllllll}\n",
       "  & ident1 & orig.ident & nCount\\_RNA & nFeature\\_RNA & sample & percent.mito & integrated\\_snn\\_res.0.3 & seurat\\_clusters & new\\_ident & barcodes & rowname & match\\\\\n",
       "  & <chr> & <chr> & <dbl> & <int> & <chr> & <dbl> & <fct> & <fct> & <fct> & <chr> & <chr> & <chr>\\\\\n",
       "\\hline\n",
       "\tBE\\_Gaowan\\_AAACATCGAAACATCGAAGACGGA & BE\\_Gaowan\\_Sertoli cells         & BE\\_Gaowan &  7554 & 1959 & BE\\_Gaowan & 0.007678051 & 8 & 8 & Sertoli cells         & AAACATCGAAACATCGAAGACGGA & BE\\_Gaowan\\_AAACATCGAAACATCGAAGACGGA & match\\\\\n",
       "\tBE\\_Gaowan\\_AAACATCGAACCGAGAAACCGAGA & BE\\_Gaowan\\_Round spermatids      & BE\\_Gaowan &  8941 & 3036 & BE\\_Gaowan & 0.007269880 & 3 & 3 & Round spermatids      & AAACATCGAACCGAGAAACCGAGA & BE\\_Gaowan\\_AAACATCGAACCGAGAAACCGAGA & match\\\\\n",
       "\tBE\\_Gaowan\\_AAACATCGAACGTGATACGCTCGA & BE\\_Gaowan\\_Elongating spermatids & BE\\_Gaowan &  8128 & 1434 & BE\\_Gaowan & 0.007750984 & 2 & 2 & Elongating spermatids & AAACATCGAACGTGATACGCTCGA & BE\\_Gaowan\\_AAACATCGAACGTGATACGCTCGA & match\\\\\n",
       "\tBE\\_Gaowan\\_AAACATCGACATTGGCATGCCTAA & BE\\_Gaowan\\_Elongating spermatids & BE\\_Gaowan &  4991 &  823 & BE\\_Gaowan & 0.003606492 & 0 & 0 & Elongating spermatids & AAACATCGACATTGGCATGCCTAA & BE\\_Gaowan\\_AAACATCGACATTGGCATGCCTAA & match\\\\\n",
       "\tBE\\_Gaowan\\_AAACATCGACATTGGCCATCAAGT & BE\\_Gaowan\\_Elongating spermatids & BE\\_Gaowan & 10594 & 2069 & BE\\_Gaowan & 0.001132717 & 1 & 1 & Elongating spermatids & AAACATCGACATTGGCCATCAAGT & BE\\_Gaowan\\_AAACATCGACATTGGCCATCAAGT & match\\\\\n",
       "\tBE\\_Gaowan\\_AAACATCGACGCTCGAACTATGCA & BE\\_Gaowan\\_Round spermatids      & BE\\_Gaowan &  5318 & 2272 & BE\\_Gaowan & 0.009402031 & 3 & 3 & Round spermatids      & AAACATCGACGCTCGAACTATGCA & BE\\_Gaowan\\_AAACATCGACGCTCGAACTATGCA & match\\\\\n",
       "\\end{tabular}\n"
      ],
      "text/markdown": [
       "\n",
       "A data.frame: 6 × 12\n",
       "\n",
       "| <!--/--> | ident1 &lt;chr&gt; | orig.ident &lt;chr&gt; | nCount_RNA &lt;dbl&gt; | nFeature_RNA &lt;int&gt; | sample &lt;chr&gt; | percent.mito &lt;dbl&gt; | integrated_snn_res.0.3 &lt;fct&gt; | seurat_clusters &lt;fct&gt; | new_ident &lt;fct&gt; | barcodes &lt;chr&gt; | rowname &lt;chr&gt; | match &lt;chr&gt; |\n",
       "|---|---|---|---|---|---|---|---|---|---|---|---|---|\n",
       "| BE_Gaowan_AAACATCGAAACATCGAAGACGGA | BE_Gaowan_Sertoli cells         | BE_Gaowan |  7554 | 1959 | BE_Gaowan | 0.007678051 | 8 | 8 | Sertoli cells         | AAACATCGAAACATCGAAGACGGA | BE_Gaowan_AAACATCGAAACATCGAAGACGGA | match |\n",
       "| BE_Gaowan_AAACATCGAACCGAGAAACCGAGA | BE_Gaowan_Round spermatids      | BE_Gaowan |  8941 | 3036 | BE_Gaowan | 0.007269880 | 3 | 3 | Round spermatids      | AAACATCGAACCGAGAAACCGAGA | BE_Gaowan_AAACATCGAACCGAGAAACCGAGA | match |\n",
       "| BE_Gaowan_AAACATCGAACGTGATACGCTCGA | BE_Gaowan_Elongating spermatids | BE_Gaowan |  8128 | 1434 | BE_Gaowan | 0.007750984 | 2 | 2 | Elongating spermatids | AAACATCGAACGTGATACGCTCGA | BE_Gaowan_AAACATCGAACGTGATACGCTCGA | match |\n",
       "| BE_Gaowan_AAACATCGACATTGGCATGCCTAA | BE_Gaowan_Elongating spermatids | BE_Gaowan |  4991 |  823 | BE_Gaowan | 0.003606492 | 0 | 0 | Elongating spermatids | AAACATCGACATTGGCATGCCTAA | BE_Gaowan_AAACATCGACATTGGCATGCCTAA | match |\n",
       "| BE_Gaowan_AAACATCGACATTGGCCATCAAGT | BE_Gaowan_Elongating spermatids | BE_Gaowan | 10594 | 2069 | BE_Gaowan | 0.001132717 | 1 | 1 | Elongating spermatids | AAACATCGACATTGGCCATCAAGT | BE_Gaowan_AAACATCGACATTGGCCATCAAGT | match |\n",
       "| BE_Gaowan_AAACATCGACGCTCGAACTATGCA | BE_Gaowan_Round spermatids      | BE_Gaowan |  5318 | 2272 | BE_Gaowan | 0.009402031 | 3 | 3 | Round spermatids      | AAACATCGACGCTCGAACTATGCA | BE_Gaowan_AAACATCGACGCTCGAACTATGCA | match |\n",
       "\n"
      ],
      "text/plain": [
       "                                   ident1                          orig.ident\n",
       "BE_Gaowan_AAACATCGAAACATCGAAGACGGA BE_Gaowan_Sertoli cells         BE_Gaowan \n",
       "BE_Gaowan_AAACATCGAACCGAGAAACCGAGA BE_Gaowan_Round spermatids      BE_Gaowan \n",
       "BE_Gaowan_AAACATCGAACGTGATACGCTCGA BE_Gaowan_Elongating spermatids BE_Gaowan \n",
       "BE_Gaowan_AAACATCGACATTGGCATGCCTAA BE_Gaowan_Elongating spermatids BE_Gaowan \n",
       "BE_Gaowan_AAACATCGACATTGGCCATCAAGT BE_Gaowan_Elongating spermatids BE_Gaowan \n",
       "BE_Gaowan_AAACATCGACGCTCGAACTATGCA BE_Gaowan_Round spermatids      BE_Gaowan \n",
       "                                   nCount_RNA nFeature_RNA sample   \n",
       "BE_Gaowan_AAACATCGAAACATCGAAGACGGA  7554      1959         BE_Gaowan\n",
       "BE_Gaowan_AAACATCGAACCGAGAAACCGAGA  8941      3036         BE_Gaowan\n",
       "BE_Gaowan_AAACATCGAACGTGATACGCTCGA  8128      1434         BE_Gaowan\n",
       "BE_Gaowan_AAACATCGACATTGGCATGCCTAA  4991       823         BE_Gaowan\n",
       "BE_Gaowan_AAACATCGACATTGGCCATCAAGT 10594      2069         BE_Gaowan\n",
       "BE_Gaowan_AAACATCGACGCTCGAACTATGCA  5318      2272         BE_Gaowan\n",
       "                                   percent.mito integrated_snn_res.0.3\n",
       "BE_Gaowan_AAACATCGAAACATCGAAGACGGA 0.007678051  8                     \n",
       "BE_Gaowan_AAACATCGAACCGAGAAACCGAGA 0.007269880  3                     \n",
       "BE_Gaowan_AAACATCGAACGTGATACGCTCGA 0.007750984  2                     \n",
       "BE_Gaowan_AAACATCGACATTGGCATGCCTAA 0.003606492  0                     \n",
       "BE_Gaowan_AAACATCGACATTGGCCATCAAGT 0.001132717  1                     \n",
       "BE_Gaowan_AAACATCGACGCTCGAACTATGCA 0.009402031  3                     \n",
       "                                   seurat_clusters new_ident            \n",
       "BE_Gaowan_AAACATCGAAACATCGAAGACGGA 8               Sertoli cells        \n",
       "BE_Gaowan_AAACATCGAACCGAGAAACCGAGA 3               Round spermatids     \n",
       "BE_Gaowan_AAACATCGAACGTGATACGCTCGA 2               Elongating spermatids\n",
       "BE_Gaowan_AAACATCGACATTGGCATGCCTAA 0               Elongating spermatids\n",
       "BE_Gaowan_AAACATCGACATTGGCCATCAAGT 1               Elongating spermatids\n",
       "BE_Gaowan_AAACATCGACGCTCGAACTATGCA 3               Round spermatids     \n",
       "                                   barcodes                \n",
       "BE_Gaowan_AAACATCGAAACATCGAAGACGGA AAACATCGAAACATCGAAGACGGA\n",
       "BE_Gaowan_AAACATCGAACCGAGAAACCGAGA AAACATCGAACCGAGAAACCGAGA\n",
       "BE_Gaowan_AAACATCGAACGTGATACGCTCGA AAACATCGAACGTGATACGCTCGA\n",
       "BE_Gaowan_AAACATCGACATTGGCATGCCTAA AAACATCGACATTGGCATGCCTAA\n",
       "BE_Gaowan_AAACATCGACATTGGCCATCAAGT AAACATCGACATTGGCCATCAAGT\n",
       "BE_Gaowan_AAACATCGACGCTCGAACTATGCA AAACATCGACGCTCGAACTATGCA\n",
       "                                   rowname                            match\n",
       "BE_Gaowan_AAACATCGAAACATCGAAGACGGA BE_Gaowan_AAACATCGAAACATCGAAGACGGA match\n",
       "BE_Gaowan_AAACATCGAACCGAGAAACCGAGA BE_Gaowan_AAACATCGAACCGAGAAACCGAGA match\n",
       "BE_Gaowan_AAACATCGAACGTGATACGCTCGA BE_Gaowan_AAACATCGAACGTGATACGCTCGA match\n",
       "BE_Gaowan_AAACATCGACATTGGCATGCCTAA BE_Gaowan_AAACATCGACATTGGCATGCCTAA match\n",
       "BE_Gaowan_AAACATCGACATTGGCCATCAAGT BE_Gaowan_AAACATCGACATTGGCCATCAAGT match\n",
       "BE_Gaowan_AAACATCGACGCTCGAACTATGCA BE_Gaowan_AAACATCGACGCTCGAACTATGCA match"
      ]
     },
     "metadata": {},
     "output_type": "display_data"
    }
   ],
   "source": [
    "head(PRO1@meta.data)"
   ]
  },
  {
   "cell_type": "code",
   "execution_count": 125,
   "metadata": {},
   "outputs": [],
   "source": [
    "rownames(PRO1@meta.data)=PRO1@meta.data$barcodes\n",
    "rownames(PRO2@meta.data)=PRO2@meta.data$barcodes\n",
    "meta1<-PRO1@meta.data[barcode,]\n",
    "meta2<-PRO2@meta.data[barcode,]\n",
    "meta1<-meta1['new_ident']\n",
    "meta2<-meta2['new_ident']\n",
    "colnames(meta1)[1] <- 'ident2'\n",
    "meta1$barcodes=rownames(meta1)\n",
    "meta2$barcodes=rownames(meta2)\n",
    "meta3<-merge(x=meta1,y=meta2,by=\"barcodes\")"
   ]
  },
  {
   "cell_type": "code",
   "execution_count": 126,
   "metadata": {},
   "outputs": [
    {
     "data": {
      "text/html": [
       "<table>\n",
       "<caption>A data.frame: 6 × 3</caption>\n",
       "<thead>\n",
       "\t<tr><th></th><th scope=col>barcodes</th><th scope=col>ident2</th><th scope=col>new_ident</th></tr>\n",
       "\t<tr><th></th><th scope=col>&lt;chr&gt;</th><th scope=col>&lt;fct&gt;</th><th scope=col>&lt;fct&gt;</th></tr>\n",
       "</thead>\n",
       "<tbody>\n",
       "\t<tr><th scope=row>1</th><td>AAACATCGAAACATCGAAGACGGA</td><td>Sertoli cells        </td><td>Sertoli cells        </td></tr>\n",
       "\t<tr><th scope=row>2</th><td>AAACATCGAACCGAGAAACCGAGA</td><td>Round spermatids     </td><td>Round spermatids     </td></tr>\n",
       "\t<tr><th scope=row>3</th><td>AAACATCGAACGTGATACGCTCGA</td><td>Elongating spermatids</td><td>Elongating spermatids</td></tr>\n",
       "\t<tr><th scope=row>4</th><td>AAACATCGACATTGGCATGCCTAA</td><td>Elongating spermatids</td><td>Elongating spermatids</td></tr>\n",
       "\t<tr><th scope=row>5</th><td>AAACATCGACATTGGCCATCAAGT</td><td>Elongating spermatids</td><td>Elongating spermatids</td></tr>\n",
       "\t<tr><th scope=row>6</th><td>AAACATCGACGCTCGAACTATGCA</td><td>Round spermatids     </td><td>Round spermatids     </td></tr>\n",
       "</tbody>\n",
       "</table>\n"
      ],
      "text/latex": [
       "A data.frame: 6 × 3\n",
       "\\begin{tabular}{r|lll}\n",
       "  & barcodes & ident2 & new\\_ident\\\\\n",
       "  & <chr> & <fct> & <fct>\\\\\n",
       "\\hline\n",
       "\t1 & AAACATCGAAACATCGAAGACGGA & Sertoli cells         & Sertoli cells        \\\\\n",
       "\t2 & AAACATCGAACCGAGAAACCGAGA & Round spermatids      & Round spermatids     \\\\\n",
       "\t3 & AAACATCGAACGTGATACGCTCGA & Elongating spermatids & Elongating spermatids\\\\\n",
       "\t4 & AAACATCGACATTGGCATGCCTAA & Elongating spermatids & Elongating spermatids\\\\\n",
       "\t5 & AAACATCGACATTGGCCATCAAGT & Elongating spermatids & Elongating spermatids\\\\\n",
       "\t6 & AAACATCGACGCTCGAACTATGCA & Round spermatids      & Round spermatids     \\\\\n",
       "\\end{tabular}\n"
      ],
      "text/markdown": [
       "\n",
       "A data.frame: 6 × 3\n",
       "\n",
       "| <!--/--> | barcodes &lt;chr&gt; | ident2 &lt;fct&gt; | new_ident &lt;fct&gt; |\n",
       "|---|---|---|---|\n",
       "| 1 | AAACATCGAAACATCGAAGACGGA | Sertoli cells         | Sertoli cells         |\n",
       "| 2 | AAACATCGAACCGAGAAACCGAGA | Round spermatids      | Round spermatids      |\n",
       "| 3 | AAACATCGAACGTGATACGCTCGA | Elongating spermatids | Elongating spermatids |\n",
       "| 4 | AAACATCGACATTGGCATGCCTAA | Elongating spermatids | Elongating spermatids |\n",
       "| 5 | AAACATCGACATTGGCCATCAAGT | Elongating spermatids | Elongating spermatids |\n",
       "| 6 | AAACATCGACGCTCGAACTATGCA | Round spermatids      | Round spermatids      |\n",
       "\n"
      ],
      "text/plain": [
       "  barcodes                 ident2                new_ident            \n",
       "1 AAACATCGAAACATCGAAGACGGA Sertoli cells         Sertoli cells        \n",
       "2 AAACATCGAACCGAGAAACCGAGA Round spermatids      Round spermatids     \n",
       "3 AAACATCGAACGTGATACGCTCGA Elongating spermatids Elongating spermatids\n",
       "4 AAACATCGACATTGGCATGCCTAA Elongating spermatids Elongating spermatids\n",
       "5 AAACATCGACATTGGCCATCAAGT Elongating spermatids Elongating spermatids\n",
       "6 AAACATCGACGCTCGAACTATGCA Round spermatids      Round spermatids     "
      ]
     },
     "metadata": {},
     "output_type": "display_data"
    }
   ],
   "source": [
    "head(meta3)"
   ]
  },
  {
   "cell_type": "code",
   "execution_count": 136,
   "metadata": {},
   "outputs": [
    {
     "name": "stderr",
     "output_type": "stream",
     "text": [
      "Warning message in to_lodes_form(data = data, axes = axis_ind, discern = params$discern):\n",
      "“Some strata appear at multiple axes.”\n",
      "Warning message in to_lodes_form(data = data, axes = axis_ind, discern = params$discern):\n",
      "“Some strata appear at multiple axes.”\n",
      "Warning message in to_lodes_form(data = data, axes = axis_ind, discern = params$discern):\n",
      "“Some strata appear at multiple axes.”\n",
      "Warning message:\n",
      "“The parameter `infer.label` is deprecated.\n",
      "Use `aes(label = after_stat(stratum))`.”\n"
     ]
    },
    {
     "data": {
      "text/html": [
       "<strong>png:</strong> 2"
      ],
      "text/latex": [
       "\\textbf{png:} 2"
      ],
      "text/markdown": [
       "**png:** 2"
      ],
      "text/plain": [
       "png \n",
       "  2 "
      ]
     },
     "metadata": {},
     "output_type": "display_data"
    }
   ],
   "source": [
    "pdf(file = 'sankey.pdf')\n",
    "ggplot(data = meta3,\n",
    "       aes(axis1 = ident2, axis2 = new_ident)) +\n",
    "  scale_x_discrete(limits = c(\"BE_Gaowan\", \"BEGW\"), expand = c(.01, .05)) +\n",
    "  geom_alluvium(aes(fill = ident2)) +\n",
    "  geom_stratum() + geom_label(stat = \"stratum\", infer.label = TRUE,size=3) +\n",
    "  #coord_polar()+\n",
    "  theme(axis.text.x = element_text(angle = 90, hjust = 1))+\n",
    "  ggtitle(\"cell number in each sample\")\n",
    "dev.off()\n"
   ]
  },
  {
   "cell_type": "code",
   "execution_count": null,
   "metadata": {},
   "outputs": [],
   "source": []
  }
 ],
 "metadata": {
  "kernelspec": {
   "display_name": "R",
   "language": "R",
   "name": "ir"
  },
  "language_info": {
   "codemirror_mode": "r",
   "file_extension": ".r",
   "mimetype": "text/x-r-source",
   "name": "R",
   "pygments_lexer": "r",
   "version": "4.0.2"
  }
 },
 "nbformat": 4,
 "nbformat_minor": 4
}
